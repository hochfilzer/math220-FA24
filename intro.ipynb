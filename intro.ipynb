{
 "cells": [
  {
   "cell_type": "markdown",
   "id": "dce4e7b0-8dc9-4587-88ba-5e0ed23499b3",
   "metadata": {},
   "source": [
    "# A very brief introduction to `sympy` and `numpy`\n",
    "## Lists in python\n",
    "This is a small introductory notebook going through some basic aspects regarding python and linear algebra. \n",
    "A very important object in python is a list, for example.\n",
    "\n",
    "Here are the official documentations of `numpy`: https://numpy.org/doc/stable/reference/index.html\n",
    "adn the documentation of `sympy`: https://docs.sympy.org/latest/reference/index.html"
   ]
  },
  {
   "cell_type": "code",
   "execution_count": 1,
   "id": "ea409477-d786-43bf-8a68-14b1174aabc4",
   "metadata": {},
   "outputs": [
    {
     "name": "stdout",
     "output_type": "stream",
     "text": [
      "[1, 2, 3]\n"
     ]
    }
   ],
   "source": [
    "a = [1,2,3]\n",
    "print(a)"
   ]
  },
  {
   "cell_type": "markdown",
   "id": "589806bd-3ad5-41a0-873b-4607f977bb24",
   "metadata": {},
   "source": [
    "We can access the elements of the list `a` as follows:"
   ]
  },
  {
   "cell_type": "code",
   "execution_count": 2,
   "id": "d10108a7-43d4-40fa-8c3a-489aca52c2c0",
   "metadata": {},
   "outputs": [
    {
     "name": "stdout",
     "output_type": "stream",
     "text": [
      "1\n",
      "2\n",
      "3\n"
     ]
    }
   ],
   "source": [
    "first_element = a[0]\n",
    "second_element = a[1]\n",
    "third_element = a[2]\n",
    "\n",
    "print(first_element)\n",
    "print(second_element)\n",
    "print(third_element)"
   ]
  },
  {
   "cell_type": "markdown",
   "id": "63a61440-6baf-462e-b761-a096090ee3e3",
   "metadata": {},
   "source": [
    "In python a list can contain any data type, and you can even mix them if you want. In particular, a list can contain a list. For example all of the following are permissible:"
   ]
  },
  {
   "cell_type": "code",
   "execution_count": 3,
   "id": "757d8b9c-d813-4bcd-86a8-2d30371a06cb",
   "metadata": {},
   "outputs": [
    {
     "name": "stdout",
     "output_type": "stream",
     "text": [
      "l1[0]='a'\n",
      "l2[0]=[1, 2]\n",
      "l2[2]=['a', 1, 'b', 2]\n"
     ]
    }
   ],
   "source": [
    "l1 = ['a', 1, 'b', 2]\n",
    "l2 = [[1,2], [3, 4], l1]\n",
    "print(f\"{l1[0]=}\")\n",
    "print(f\"{l2[0]=}\")\n",
    "print(f\"{l2[2]=}\")"
   ]
  },
  {
   "cell_type": "markdown",
   "id": "2d357a56-52c0-4f25-8a20-7da4f7e2f80a",
   "metadata": {},
   "source": [
    "Can Python represent matrices? One way you can think about a matrix is that it is characterised by its rows.\n",
    "\n",
    "Say we have the matrix \n",
    "$$\n",
    "A=\n",
    "\\begin{bmatrix}\n",
    "1 & 2 & 3 \\\\\n",
    "4 & 5 & 6 \\\\\n",
    "7 & 8 & 9\n",
    "\\end{bmatrix},\n",
    "$$\n",
    "then we could capture the information of the matrix, by creating a list, whose entries are lists that represent the rows. So we could for example represent $A$ in python like this:"
   ]
  },
  {
   "cell_type": "code",
   "execution_count": 4,
   "id": "ac6b5d42-a83e-4149-acb4-1452853d595d",
   "metadata": {},
   "outputs": [
    {
     "name": "stdout",
     "output_type": "stream",
     "text": [
      "[[1, 2, 3], [4, 5, 6], [7, 8, 9]]\n"
     ]
    }
   ],
   "source": [
    "A = [[1,2,3], [4,5,6], [7,8,9]]\n",
    "print(A)"
   ]
  },
  {
   "cell_type": "markdown",
   "id": "670001fe-04db-4b8f-8ff9-d693bf2ff78f",
   "metadata": {},
   "source": [
    "The 'problem' is that python doesn't inherently understand that we are thinking about a matrix here and we may want to do things with it that only make sense in the context of matrices, such as row reduce the matrix, multiply two matrices, add two matrices and much more.\n",
    "\n",
    "Such functionality is not implemented in python directly, and instead we will use two very established libraries that have this kind of functionality: `numpy` (standing for 'numerical python') and `sympy` (standing for symbolic python). They  serve different purposes and will have slightly different syntax.  \n",
    "\n",
    "You can think of these libraries/modules as big python files that contain lots of different functions, and by importing them we gain access to these functions. We can do this as follows:\n",
    "\n"
   ]
  },
  {
   "cell_type": "code",
   "execution_count": 5,
   "id": "c46e1544-2676-4230-9b51-109efe86e8ef",
   "metadata": {},
   "outputs": [],
   "source": [
    "import numpy\n",
    "import sympy"
   ]
  },
  {
   "cell_type": "markdown",
   "id": "39b8633c-005f-4632-b2e4-87ce88ca756d",
   "metadata": {},
   "source": [
    "Now maybe (in theory) `numpy` and `sympy` both have a function called `do_something`. This could be a problem since if I were to call `do_something` then python doesn't know whether it should take the function with this name that is defined in `numpy` or the function with the same name from `sympy`! Fortunately the default syntax in this situation is, that if I want to call `do_something` from `numpy` then I need to write `numpy.do_something` and if I want to call `do_something` from sympy then I need to write `sympy.do_something`.\n",
    "\n",
    "Since it is somewhat tedious to write `sympy.` and `numpy.` in front of everything we can be slightly more efficient if we import the libraries as follows:"
   ]
  },
  {
   "cell_type": "code",
   "execution_count": 6,
   "id": "fc887ede-5553-43b9-a48b-7466e72a8be1",
   "metadata": {},
   "outputs": [],
   "source": [
    "import numpy as np\n",
    "import sympy as sy\n",
    "sy.init_printing() # This makes things coming from sympy look a little prettier"
   ]
  },
  {
   "cell_type": "markdown",
   "id": "6a0ff754-a69b-4ff2-b5b7-4c2fc22adc02",
   "metadata": {},
   "source": [
    "Now if I want to call `do_something` from `numpy` I only need to write `np.do_something`, and if I want to call `do_something` from sympy I can do this via `sy.do_something`. Anyway, let's look at some examples.\n",
    "\n",
    "`sympy` can do matrix calculations. In order for the module to be able to manipulate a matrix, we need to feed it to the program in a way so that it is familiar with. Recall how we defined our matrix A before:"
   ]
  },
  {
   "cell_type": "code",
   "execution_count": 7,
   "id": "b4b25f89-74cf-43e1-b8d7-3be0085de695",
   "metadata": {},
   "outputs": [
    {
     "name": "stdout",
     "output_type": "stream",
     "text": [
      "[[1, 2, 3], [4, 5, 6], [7, 8, 9]]\n"
     ]
    }
   ],
   "source": [
    "A = [[1,2,3], [4,5,6], [7,8,9]]\n",
    "print(A)"
   ]
  },
  {
   "cell_type": "markdown",
   "id": "262cc051-46ce-495b-9724-996016b4cd60",
   "metadata": {},
   "source": [
    "In order for `sympy` to understand that this is a matrix (and not just a list of lists) we do the following:"
   ]
  },
  {
   "cell_type": "code",
   "execution_count": 8,
   "id": "13712df5-12ae-4c8d-989c-fe868558a84e",
   "metadata": {},
   "outputs": [
    {
     "data": {
      "image/png": "[encoded data removed]",
      "text/latex": [
       "$\\displaystyle \\left[\\begin{matrix}1 & 2 & 3\\\\4 & 5 & 6\\\\7 & 8 & 9\\end{matrix}\\right]$"
      ],
      "text/plain": [
       "⎡1  2  3⎤\n",
       "⎢       ⎥\n",
       "⎢4  5  6⎥\n",
       "⎢       ⎥\n",
       "⎣7  8  9⎦"
      ]
     },
     "execution_count": 8,
     "metadata": {},
     "output_type": "execute_result"
    }
   ],
   "source": [
    "A = sy.Matrix([[1,2,3], [4,5,6], [7,8,9]])\n",
    "A"
   ]
  },
  {
   "cell_type": "markdown",
   "id": "22bfb709-c16b-42cd-a10d-31db8b50312c",
   "metadata": {},
   "source": [
    "Now `A` is not just a list of lists but it is a `sympy.Matrix` object - this now allows the `sympy` module to do all sorts of things related to matrices. For example, we may be interested in row reducing A, which we can easily do: "
   ]
  },
  {
   "cell_type": "code",
   "execution_count": 12,
   "id": "8a86ef7f-dbcb-4992-a136-172b5a9957cf",
   "metadata": {},
   "outputs": [
    {
     "data": {
      "image/png": "[encoded data removed]",
      "text/latex": [
       "$\\displaystyle \\left( \\left[\\begin{matrix}1 & 0 & -1\\\\0 & 1 & 2\\\\0 & 0 & 0\\end{matrix}\\right], \\  \\left( 0, \\  1\\right)\\right)$"
      ],
      "text/plain": [
       "⎛⎡1  0  -1⎤        ⎞\n",
       "⎜⎢        ⎥        ⎟\n",
       "⎜⎢0  1  2 ⎥, (0, 1)⎟\n",
       "⎜⎢        ⎥        ⎟\n",
       "⎝⎣0  0  0 ⎦        ⎠"
      ]
     },
     "execution_count": 12,
     "metadata": {},
     "output_type": "execute_result"
    }
   ],
   "source": [
    "B = A.rref()\n",
    "B"
   ]
  },
  {
   "cell_type": "markdown",
   "id": "029de271-ec7c-4a85-8f5b-3ff7d532e888",
   "metadata": {},
   "source": [
    "That looks nice! But what is the $(0,1)$ doing here? It's telling is that the columns $0$ and $1$ are the pivot columns (recall that everything is $0$-indexed here, so those are really the first and the second column of the matrix).\n",
    "\n",
    "What happened is that we applied a function to $A$, namely the `sympy` function `rref()`, which has two outputs: First it gives us the reduced echelon form of $A$, and secondly it gives us a tuple of the pivot columns. As a result, the variable `B` in the block above actually stores two things and is not just a matrix. If we want just the matrix, we could do so by calling `B[0]`:"
   ]
  },
  {
   "cell_type": "code",
   "execution_count": 13,
   "id": "b3c24da2-bd11-4c09-9e78-f26a66bad27a",
   "metadata": {},
   "outputs": [
    {
     "data": {
      "image/png": "[encoded data removed]",
      "text/latex": [
       "$\\displaystyle \\left[\\begin{matrix}1 & 0 & -1\\\\0 & 1 & 2\\\\0 & 0 & 0\\end{matrix}\\right]$"
      ],
      "text/plain": [
       "⎡1  0  -1⎤\n",
       "⎢        ⎥\n",
       "⎢0  1  2 ⎥\n",
       "⎢        ⎥\n",
       "⎣0  0  0 ⎦"
      ]
     },
     "execution_count": 13,
     "metadata": {},
     "output_type": "execute_result"
    }
   ],
   "source": [
    "B[0]"
   ]
  },
  {
   "cell_type": "code",
   "execution_count": 14,
   "id": "af80267e-01b3-4ec2-a8ac-266a8d9c18c1",
   "metadata": {},
   "outputs": [
    {
     "data": {
      "image/png": "[encoded data removed]",
      "text/latex": [
       "$\\displaystyle \\left( 0, \\  1\\right)$"
      ],
      "text/plain": [
       "(0, 1)"
      ]
     },
     "execution_count": 14,
     "metadata": {},
     "output_type": "execute_result"
    }
   ],
   "source": [
    "B[1]"
   ]
  },
  {
   "cell_type": "markdown",
   "id": "893d76ad-ff06-4ebd-b14a-af520ca88459",
   "metadata": {},
   "source": [
    "Note that this didn't actually change our matrix `A` but rather we created a new one, which is the reduced echelon form of `A`. If we were to call  `A` now we would still get the original shape:"
   ]
  },
  {
   "cell_type": "code",
   "execution_count": 15,
   "id": "5de1983a-40b5-40bb-a0e1-1918a764e95f",
   "metadata": {},
   "outputs": [
    {
     "data": {
      "image/png": "[encoded data removed]",
      "text/latex": [
       "$\\displaystyle \\left[\\begin{matrix}1 & 2 & 3\\\\4 & 5 & 6\\\\7 & 8 & 9\\end{matrix}\\right]$"
      ],
      "text/plain": [
       "⎡1  2  3⎤\n",
       "⎢       ⎥\n",
       "⎢4  5  6⎥\n",
       "⎢       ⎥\n",
       "⎣7  8  9⎦"
      ]
     },
     "execution_count": 15,
     "metadata": {},
     "output_type": "execute_result"
    }
   ],
   "source": [
    "A"
   ]
  },
  {
   "cell_type": "markdown",
   "id": "a7903e5f-6eed-439c-91c6-599e02ab31c1",
   "metadata": {},
   "source": [
    "## Solving linear systems using `sympy`\n",
    "Say we're trying to find solutions to the linear system given by\n",
    "\\begin{align}\n",
    "3x + 4y &= 5 \\\\ \n",
    "x - y &=7.\n",
    "\\end{align}\n",
    "Recall that we can encapsulate this information using the augmented matrix\n",
    "$$\n",
    "A=\n",
    "\\begin{bmatrix}\n",
    "3 & 4 & 5 \\\\\n",
    "1 & -1 & 7\n",
    "\\end{bmatrix},\n",
    "$$\n",
    "where you just imagine that there is a vertical bar before the last column. There are two ways of dealing with this: First we can just take $A$ and row reduce it using sympy, from which we can read off the solution."
   ]
  },
  {
   "cell_type": "code",
   "execution_count": 16,
   "id": "ab4c061e-7282-4418-bdf2-364837d7aa93",
   "metadata": {},
   "outputs": [
    {
     "data": {
      "image/png": "[encoded data removed]",
      "text/latex": [
       "$\\displaystyle \\left( \\left[\\begin{matrix}1 & 0 & \\frac{33}{7}\\\\0 & 1 & - \\frac{16}{7}\\end{matrix}\\right], \\  \\left( 0, \\  1\\right)\\right)$"
      ],
      "text/plain": [
       "⎛⎡1  0  33/7 ⎤        ⎞\n",
       "⎜⎢           ⎥, (0, 1)⎟\n",
       "⎝⎣0  1  -16/7⎦        ⎠"
      ]
     },
     "execution_count": 16,
     "metadata": {},
     "output_type": "execute_result"
    }
   ],
   "source": [
    "A = sy.Matrix([[3,4,5], [1,-1,7]])\n",
    "A.rref()"
   ]
  },
  {
   "cell_type": "markdown",
   "id": "52562096-1b20-43f0-b81d-866f3201f69d",
   "metadata": {},
   "source": [
    "And we see immediately that the unique solution is $x = 33/7, y = -16/7$."
   ]
  },
  {
   "cell_type": "markdown",
   "id": "a550d6ce-ad78-4bef-87f8-b4099a1915c3",
   "metadata": {},
   "source": [
    "`sympy` can also directly solve a linear system for us. To do this, we need to create some variables (we can call them whatever we want) using sympy. In our case there are two variables. For a change, let's call them $x_1$ and $x_2$: "
   ]
  },
  {
   "cell_type": "code",
   "execution_count": 17,
   "id": "1f9931b3-8773-42c2-8b21-3d22556fe019",
   "metadata": {},
   "outputs": [],
   "source": [
    "x1, x2 = sy.symbols('x1, x2')"
   ]
  },
  {
   "cell_type": "markdown",
   "id": "b30a8913-54c3-4c22-89a7-2bff40d99de4",
   "metadata": {},
   "source": [
    "Now we do the folling:"
   ]
  },
  {
   "cell_type": "code",
   "execution_count": 20,
   "id": "6042453a-3633-449b-89ae-d13cd038118f",
   "metadata": {},
   "outputs": [
    {
     "data": {
      "image/png": "[encoded data removed]",
      "text/latex": [
       "$\\displaystyle \\left\\{ x_{1} : \\frac{33}{7}, \\  x_{2} : - \\frac{16}{7}\\right\\}$"
      ],
      "text/plain": [
       "{x₁: 33/7, x₂: -16/7}"
      ]
     },
     "execution_count": 20,
     "metadata": {},
     "output_type": "execute_result"
    }
   ],
   "source": [
    "sy.solve_linear_system(A, x1, x2)"
   ]
  },
  {
   "cell_type": "markdown",
   "id": "03901c99-5318-44d5-8ac1-d402bd38fc65",
   "metadata": {},
   "source": [
    "In fact, sympy can also deal with the situation where we might have no solutions, or infinitely many solutions. Let's look at some examples:"
   ]
  },
  {
   "cell_type": "code",
   "execution_count": 21,
   "id": "5dbff563-a6a0-4df5-b514-ea5d5eff675b",
   "metadata": {},
   "outputs": [
    {
     "data": {
      "image/png": "[encoded data removed]",
      "text/latex": [
       "$\\displaystyle \\left[\\begin{matrix}1 & 2 & 3 & 2 & 1\\\\1 & 1 & 2 & 1 & 1\\\\0 & 1 & 49 & 2 & 0\\end{matrix}\\right]$"
      ],
      "text/plain": [
       "⎡1  2  3   2  1⎤\n",
       "⎢              ⎥\n",
       "⎢1  1  2   1  1⎥\n",
       "⎢              ⎥\n",
       "⎣0  1  49  2  0⎦"
      ]
     },
     "execution_count": 21,
     "metadata": {},
     "output_type": "execute_result"
    }
   ],
   "source": [
    "x1, x2, x3, x4 = sy.symbols('x1, x2, x3, x4')\n",
    "\n",
    "A1 = sy.Matrix([[1,2,3,2,1], [1,1,2,1,1], [0,1,49, 2, 0]])\n",
    "A1\n"
   ]
  },
  {
   "cell_type": "code",
   "execution_count": 22,
   "id": "2e3a2c25-2014-4c08-ad38-652bb706995a",
   "metadata": {},
   "outputs": [
    {
     "data": {
      "image/png": "[encoded data removed]",
      "text/latex": [
       "$\\displaystyle \\left\\{ x_{1} : \\frac{x_{4}}{48} + 1, \\  x_{2} : - \\frac{47 x_{4}}{48}, \\  x_{3} : - \\frac{x_{4}}{48}\\right\\}$"
      ],
      "text/plain": [
       "⎧    x₄          -47⋅x₄       -x₄ ⎫\n",
       "⎨x₁: ── + 1, x₂: ───────, x₃: ────⎬\n",
       "⎩    48             48         48 ⎭"
      ]
     },
     "execution_count": 22,
     "metadata": {},
     "output_type": "execute_result"
    }
   ],
   "source": [
    "sy.solve_linear_system(A1, x1, x2, x3, x4)"
   ]
  },
  {
   "cell_type": "markdown",
   "id": "c1bb6555-8156-4a8e-9527-30df7983fc1d",
   "metadata": {},
   "source": [
    "So in this example, for the matrix `A1` there are infinitely many solutions, since any value for $x_4$ will give rise to a valid solution."
   ]
  },
  {
   "cell_type": "code",
   "execution_count": 23,
   "id": "e7385646-2249-48d5-aef7-9d006ef74d9e",
   "metadata": {},
   "outputs": [
    {
     "data": {
      "image/png": "[encoded data removed]",
      "text/latex": [
       "$\\displaystyle \\left[\\begin{matrix}0 & 0 & 1\\\\1 & 0 & 0\\end{matrix}\\right]$"
      ],
      "text/plain": [
       "⎡0  0  1⎤\n",
       "⎢       ⎥\n",
       "⎣1  0  0⎦"
      ]
     },
     "execution_count": 23,
     "metadata": {},
     "output_type": "execute_result"
    }
   ],
   "source": [
    "A2 = sy.Matrix([[0,0,1], [1,0,0]])\n",
    "A2"
   ]
  },
  {
   "cell_type": "code",
   "execution_count": 24,
   "id": "a6f84132-5a8d-478d-bd7d-46ae6886b0c2",
   "metadata": {},
   "outputs": [],
   "source": [
    "sy.solve_linear_system(A2, x1, x2)"
   ]
  },
  {
   "cell_type": "markdown",
   "id": "d9b61dd6-75d9-4402-835e-00341fd805b9",
   "metadata": {},
   "source": [
    "We get nothing, since the system associated to the matrix above doesn't have a solution."
   ]
  },
  {
   "cell_type": "markdown",
   "id": "53fb4155-e2ff-4b0e-aa9b-51417c47a067",
   "metadata": {},
   "source": [
    "## Elementary functions and variables in `sympy`\n",
    "`sympy` can also deal with well known functions such as the trigonometric functions and their relationship to fundamental constants, such as pi. We can import these as follows:"
   ]
  },
  {
   "cell_type": "code",
   "execution_count": 25,
   "id": "fcddc68d-e406-4d72-a2a5-b3536cf1215c",
   "metadata": {},
   "outputs": [],
   "source": [
    "from sympy import sin, cos, pi\n"
   ]
  },
  {
   "cell_type": "markdown",
   "id": "abc36c1a-9e5f-4ed0-9734-9bf9beb92b2f",
   "metadata": {},
   "source": [
    "It is a fact, that you will later learn in this course, that a point $(x,y)$ in the Euclidean plane can be rotated about the origin by an angle $\\theta$ by multiplying the rotation matrix\n",
    "\n",
    "$$\n",
    "R_\\theta=\n",
    "\\begin{bmatrix}\n",
    "\\cos(\\theta) & \\sin(\\theta) \\\\\n",
    "-\\sin(\\theta) & \\cos(\\theta)\n",
    "\\end{bmatrix}.\n",
    "$$\n",
    "\n",
    "It is also a fact that something called the determinant of $R_\\theta$ is always equal to $1$. We can verify this for a few examples using `sympy`"
   ]
  },
  {
   "cell_type": "code",
   "execution_count": 26,
   "id": "990540a9-6669-41ee-8000-cdc59359d911",
   "metadata": {},
   "outputs": [
    {
     "data": {
      "image/png": "[encoded data removed]",
      "text/latex": [
       "$\\displaystyle 1$"
      ],
      "text/plain": [
       "1"
      ]
     },
     "execution_count": 26,
     "metadata": {},
     "output_type": "execute_result"
    }
   ],
   "source": [
    "theta = pi/12\n",
    "\n",
    "R = sy.Matrix([[cos(theta), sin(theta)], [-sin(theta), cos(theta)]])\n",
    "R.det()"
   ]
  },
  {
   "cell_type": "markdown",
   "id": "7d3ff435-3c75-47f1-92f0-5423e09a285e",
   "metadata": {},
   "source": [
    "In particular, what is interesting to not here is that the value we get is precisely the integer $1$. Usually one would expect to obtain a real number close to $1$ since at the end of the day this is a computer dealing with numbers and there will always be some floating point errors. But the way that `sympy` works, is that it is aware of the algebraic properties of cosine, sine etc and will be able to use this in its computations.\n",
    "\n",
    "In fact, `sympy` can deal with variables that don't have a specified value yet. For example:"
   ]
  },
  {
   "cell_type": "code",
   "execution_count": 27,
   "id": "4a2efe23-a252-4c7d-b15d-5b072bb33de4",
   "metadata": {},
   "outputs": [
    {
     "data": {
      "image/png": "[encoded data removed]",
      "text/latex": [
       "$\\displaystyle \\sin^{2}{\\left(\\frac{x}{\\pi} \\right)} + \\cos^{2}{\\left(\\frac{x}{\\pi} \\right)}$"
      ],
      "text/plain": [
       "   2⎛x⎞      2⎛x⎞\n",
       "sin ⎜─⎟ + cos ⎜─⎟\n",
       "    ⎝π⎠       ⎝π⎠"
      ]
     },
     "execution_count": 27,
     "metadata": {},
     "output_type": "execute_result"
    }
   ],
   "source": [
    "x = sy.symbols('x')\n",
    "\n",
    "theta = x/pi\n",
    "R = sy.Matrix([[cos(theta), sin(theta)], [-sin(theta), cos(theta)]])\n",
    "R.det()"
   ]
  },
  {
   "cell_type": "markdown",
   "id": "a52fa707-a164-4c8c-8368-7e1325411071",
   "metadata": {},
   "source": [
    "Now a human can verify that this is always $1$, but it did the hard work for us! In fact, suppose (which is the type of question you might get on an exam or a problem sheet) that you are asked the following question:\n",
    "\n",
    "For which real values of $f$ does the following system of equations in $x$ and $y$ have no solution, exactly one solution or infinitely many solutions? The system is given by\n",
    "\n",
    "\\begin{align}\n",
    "x + 2y  &= 1 \\\\\n",
    "2x + fy &= 3.\n",
    "\\end{align}"
   ]
  },
  {
   "cell_type": "code",
   "execution_count": 28,
   "id": "ad6fb2a2-3464-451e-8504-6ea776d4636c",
   "metadata": {},
   "outputs": [
    {
     "data": {
      "image/png": "[encoded data removed]",
      "text/latex": [
       "$\\displaystyle \\left[\\begin{matrix}1 & 2 & 1\\\\2 & f & 3\\end{matrix}\\right]$"
      ],
      "text/plain": [
       "⎡1  2  1⎤\n",
       "⎢       ⎥\n",
       "⎣2  f  3⎦"
      ]
     },
     "execution_count": 28,
     "metadata": {},
     "output_type": "execute_result"
    }
   ],
   "source": [
    "x, y, f = sy.symbols('x, y, f')\n",
    "A = sy.Matrix([[1, 2, 1], [2, f, 3]])\n",
    "A"
   ]
  },
  {
   "cell_type": "code",
   "execution_count": 29,
   "id": "08294e8f-6eda-485c-ab1f-a78f1d1284fd",
   "metadata": {},
   "outputs": [
    {
     "data": {
      "image/png": "[encoded data removed]",
      "text/latex": [
       "$\\displaystyle \\left\\{ x : \\frac{f - 6}{f - 4}, \\  y : \\frac{1}{f - 4}\\right\\}$"
      ],
      "text/plain": [
       "⎧   f - 6       1  ⎫\n",
       "⎨x: ─────, y: ─────⎬\n",
       "⎩   f - 4     f - 4⎭"
      ]
     },
     "execution_count": 29,
     "metadata": {},
     "output_type": "execute_result"
    }
   ],
   "source": [
    "sy.solve_linear_system(A, x, y)"
   ]
  },
  {
   "cell_type": "markdown",
   "id": "eb8edec7-d11d-42c3-ad7d-fab1870a342c",
   "metadata": {},
   "source": [
    "Something seems suspicious about the case when $f = 4$, so you may have to think about what happens then, but otherwise we get a solution! We can also row reduce $A$, in the hopes of getting some further insight."
   ]
  },
  {
   "cell_type": "code",
   "execution_count": 30,
   "id": "9d11edf9-7a7e-489f-892f-5312bf3eae1d",
   "metadata": {},
   "outputs": [
    {
     "data": {
      "image/png": "[encoded data removed]",
      "text/latex": [
       "$\\displaystyle \\left( \\left[\\begin{matrix}1 & 0 & \\frac{f - 6}{f - 4}\\\\0 & 1 & \\frac{1}{f - 4}\\end{matrix}\\right], \\  \\left( 0, \\  1\\right)\\right)$"
      ],
      "text/plain": [
       "⎛⎡      f - 6⎤        ⎞\n",
       "⎜⎢1  0  ─────⎥        ⎟\n",
       "⎜⎢      f - 4⎥        ⎟\n",
       "⎜⎢           ⎥, (0, 1)⎟\n",
       "⎜⎢        1  ⎥        ⎟\n",
       "⎜⎢0  1  ─────⎥        ⎟\n",
       "⎝⎣      f - 4⎦        ⎠"
      ]
     },
     "execution_count": 30,
     "metadata": {},
     "output_type": "execute_result"
    }
   ],
   "source": [
    "A.rref()"
   ]
  },
  {
   "cell_type": "markdown",
   "id": "6b42cd5a-ab57-4dc5-a724-b7c3f3817f2a",
   "metadata": {},
   "source": [
    "## `numpy` basics\n",
    "`numpy` is a python library, implemented in C, that allows for very fast and efficient matrix related numerical computations. Its use case is inherently different from the one of `sympy` and therefore the functionalities differ. For example, numpy won't be able to row reduce a matrix. Why not? Well, numpy doesn't work with precise expressions such as fractions but rather with floating point values. For example, numerically speaking a computer may not evaluate $(1 / 3) * 3$ to exactly $1$ but instead it might evaluate it to $0.999999999$. This is (most of the time) insignificant but this can lead to a wrong row reduced echelon form with fundamentally wrong qualitative properties (for example the number of pivots might be wrong). \n",
    "\n",
    "This may sound annoying, but the truth is that in the real world, working with real data you will very rarely encounter two numbers that are the same. In fact, if you were to weigh objects with an extremely precise scale the probabilty that you will weigh two objects with the same weight is essentially zero. \n",
    "\n",
    "In `numpy` you can tell the library that you would like to consider a matrix in a similar manner to `sympy`, but instead it is called a `numpy.array`."
   ]
  },
  {
   "cell_type": "code",
   "execution_count": 31,
   "id": "dff56ad8-332c-4d50-a128-9f427f75e147",
   "metadata": {},
   "outputs": [
    {
     "data": {
      "text/plain": [
       "array([[1, 2],\n",
       "       [5, 6]])"
      ]
     },
     "execution_count": 31,
     "metadata": {},
     "output_type": "execute_result"
    }
   ],
   "source": [
    "A = np.array([[1,2], [5,6]])\n",
    "A"
   ]
  },
  {
   "cell_type": "code",
   "execution_count": 32,
   "id": "dc4ecd1a-d987-4757-b2cd-4fae5f59a21d",
   "metadata": {},
   "outputs": [
    {
     "data": {
      "text/plain": [
       "array([[1, 0],\n",
       "       [1, 3]])"
      ]
     },
     "execution_count": 32,
     "metadata": {},
     "output_type": "execute_result"
    }
   ],
   "source": [
    "B = np.array([[1,0], [1,3]])\n",
    "B"
   ]
  },
  {
   "cell_type": "markdown",
   "id": "0c263a19-9e75-457e-a6be-d309379bf700",
   "metadata": {},
   "source": [
    "We can add two matrices in the expected way"
   ]
  },
  {
   "cell_type": "code",
   "execution_count": 33,
   "id": "2a5369ab-aedc-403c-a751-74f79d60be93",
   "metadata": {},
   "outputs": [
    {
     "data": {
      "text/plain": [
       "array([[2, 2],\n",
       "       [6, 9]])"
      ]
     },
     "execution_count": 33,
     "metadata": {},
     "output_type": "execute_result"
    }
   ],
   "source": [
    "A + B"
   ]
  },
  {
   "cell_type": "markdown",
   "id": "96fab696-f13f-4933-ad43-a12c684bbaf2",
   "metadata": {},
   "source": [
    "We can multiply two matrices using `@`:"
   ]
  },
  {
   "cell_type": "code",
   "execution_count": 34,
   "id": "4d3504bc-83e5-48d6-9a66-5cac42a55c80",
   "metadata": {},
   "outputs": [
    {
     "data": {
      "text/plain": [
       "array([[ 3,  6],\n",
       "       [11, 18]])"
      ]
     },
     "execution_count": 34,
     "metadata": {},
     "output_type": "execute_result"
    }
   ],
   "source": [
    "A @ B"
   ]
  },
  {
   "cell_type": "markdown",
   "id": "a24039bc-ce66-4580-85d1-18f6054ec0c9",
   "metadata": {},
   "source": [
    "We can also use `np.matmul(A,B)` to achieve the same:"
   ]
  },
  {
   "cell_type": "code",
   "execution_count": 35,
   "id": "e9c97106-ed05-41d5-9ff5-a552bcd82faa",
   "metadata": {},
   "outputs": [
    {
     "data": {
      "text/plain": [
       "array([[ 3,  6],\n",
       "       [11, 18]])"
      ]
     },
     "execution_count": 35,
     "metadata": {},
     "output_type": "execute_result"
    }
   ],
   "source": [
    "np.matmul(A,B)"
   ]
  },
  {
   "cell_type": "markdown",
   "id": "c6862a4e-0cdd-4da2-9614-5fc8252d2783",
   "metadata": {},
   "source": [
    "If we try to do `A * B` we get something different:"
   ]
  },
  {
   "cell_type": "code",
   "execution_count": 36,
   "id": "135d2555-e0aa-4eed-bf3d-642b853d4774",
   "metadata": {},
   "outputs": [
    {
     "data": {
      "text/plain": [
       "array([[ 1,  0],\n",
       "       [ 5, 18]])"
      ]
     },
     "execution_count": 36,
     "metadata": {},
     "output_type": "execute_result"
    }
   ],
   "source": [
    "A * B"
   ]
  },
  {
   "cell_type": "markdown",
   "id": "f04a1056-decb-4f54-8f57-859c4f8df923",
   "metadata": {},
   "source": [
    "`A * B` computes the coordinate-wise product of the matrix entries as opposed to the matrix product, which serves a very different purpose!\n",
    "\n",
    "We can also compute the determinant:\n"
   ]
  },
  {
   "cell_type": "code",
   "execution_count": 37,
   "id": "6a9ebaf1-a75a-42c3-b1d0-f4dc7a250c13",
   "metadata": {},
   "outputs": [
    {
     "data": {
      "image/png": "[encoded data removed]",
      "text/latex": [
       "$\\displaystyle -4.0$"
      ],
      "text/plain": [
       "-3.999999999999999"
      ]
     },
     "execution_count": 37,
     "metadata": {},
     "output_type": "execute_result"
    }
   ],
   "source": [
    "np.linalg.det(A)"
   ]
  },
  {
   "cell_type": "markdown",
   "id": "498b7a4b-fd0a-4e99-9fba-0653439beddd",
   "metadata": {},
   "source": [
    "And we can also find the inverse of a matrix (if it exists):"
   ]
  },
  {
   "cell_type": "code",
   "execution_count": 38,
   "id": "4131f2ba-f047-4102-820f-a6640df2dd78",
   "metadata": {},
   "outputs": [
    {
     "data": {
      "text/plain": [
       "array([[-1.5 ,  0.5 ],\n",
       "       [ 1.25, -0.25]])"
      ]
     },
     "execution_count": 38,
     "metadata": {},
     "output_type": "execute_result"
    }
   ],
   "source": [
    "np.linalg.inv(A)"
   ]
  },
  {
   "cell_type": "code",
   "execution_count": null,
   "id": "b9689ce9-fb3e-41f8-93bf-ce783ca76917",
   "metadata": {},
   "outputs": [],
   "source": []
  }
 ],
 "metadata": {
  "kernelspec": {
   "display_name": "Python 3 (ipykernel)",
   "language": "python",
   "name": "python3"
  },
  "language_info": {
   "codemirror_mode": {
    "name": "ipython",
    "version": 3
   },
   "file_extension": ".py",
   "mimetype": "text/x-python",
   "name": "python",
   "nbconvert_exporter": "python",
   "pygments_lexer": "ipython3",
   "version": "3.12.1"
  }
 },
 "nbformat": 4,
 "nbformat_minor": 5
}
