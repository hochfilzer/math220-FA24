{
 "cells": [
  {
   "cell_type": "markdown",
   "id": "ca49a013-149e-41cc-b95c-72d30ca60e2e",
   "metadata": {},
   "source": [
    "# Computing matrix (vector) products and higher powers using `numpy` and `sympy`\n",
    "Let's start by importing the relevant packages"
   ]
  },
  {
   "cell_type": "code",
   "execution_count": 1,
   "id": "8323b1c8-3fa7-49e7-9c74-606e73c0f679",
   "metadata": {},
   "outputs": [],
   "source": [
    "import numpy as np\n",
    "import sympy as sy"
   ]
  },
  {
   "cell_type": "markdown",
   "id": "a66819f2-9607-4e85-8b19-4ba46b4a053c",
   "metadata": {},
   "source": [
    "## `numpy`\n",
    "If we want to multiply two matrices or a matrix and a vector we can just use the operator `@` to do this."
   ]
  },
  {
   "cell_type": "code",
   "execution_count": 3,
   "id": "b760a4f6-3d24-4a5e-beb8-4747b317ba51",
   "metadata": {},
   "outputs": [
    {
     "name": "stdout",
     "output_type": "stream",
     "text": [
      "A.shape=(2, 3)\n",
      "x.shape=(3, 1)\n"
     ]
    }
   ],
   "source": [
    "A = np.array([[1,2,3], [4,5,6]])\n",
    "x = np.array([[3], [4], [0]])\n",
    "# Note that it is important that the dimensions of A and x match up in a way that makes sense\n",
    "# We want x to be a column vector, so we need to initialise it as above\n",
    "# We can check that their dimensions match up:\n",
    "print(f\"{A.shape=}\")\n",
    "print(f\"{x.shape=}\")"
   ]
  },
  {
   "cell_type": "markdown",
   "id": "2b2117df-6c82-4d6f-b43b-74b0ad1bf634",
   "metadata": {},
   "source": [
    "To multiply them we now just do the following:"
   ]
  },
  {
   "cell_type": "code",
   "execution_count": 4,
   "id": "64cb05cf-fd02-4a88-9d3a-6de2ac04b5c5",
   "metadata": {},
   "outputs": [
    {
     "data": {
      "text/plain": [
       "array([[11],\n",
       "       [32]])"
      ]
     },
     "execution_count": 4,
     "metadata": {},
     "output_type": "execute_result"
    }
   ],
   "source": [
    "b = A @ x\n",
    "b"
   ]
  },
  {
   "cell_type": "markdown",
   "id": "d049ec04-b430-44ff-bf44-7c27184bd2ba",
   "metadata": {},
   "source": [
    "This works if you want to multiply any two matrices (provided their dimensions match up appropriately). If we have a square matrix then we can multiply it with itself as many times as we would like. If we want to compute a higher matrix power we can do this using a for loop or a custom function, but `numpy` has a built-in method called `np.linalg.matrix_power`. \n",
    "(Side fact: `numpy` uses parallelization under the hood of their functions so this is likely much faster than whatever we might quickly be able to code up using a foor loop.)"
   ]
  },
  {
   "cell_type": "code",
   "execution_count": 8,
   "id": "77430254-2424-4b4d-b6ee-c7384962c9e0",
   "metadata": {},
   "outputs": [
    {
     "data": {
      "text/plain": [
       "array([[ 1,  2],\n",
       "       [-1,  6]])"
      ]
     },
     "execution_count": 8,
     "metadata": {},
     "output_type": "execute_result"
    }
   ],
   "source": [
    "B = np.array([[1,2], [-1, 6]])\n",
    "B"
   ]
  },
  {
   "cell_type": "code",
   "execution_count": 10,
   "id": "6583f6ff-cfd1-40a7-8b2d-66f6943dc373",
   "metadata": {},
   "outputs": [
    {
     "data": {
      "text/plain": [
       "array([[-3010561, 13733006],\n",
       "       [-6866503, 31321954]])"
      ]
     },
     "execution_count": 10,
     "metadata": {},
     "output_type": "execute_result"
    }
   ],
   "source": [
    "C = np.linalg.matrix_power(B, 10) # inputs are (matrix, desired_power)\n",
    "C"
   ]
  },
  {
   "cell_type": "markdown",
   "id": "b0a6459b-2254-4b4c-bd47-a36c85f16388",
   "metadata": {},
   "source": [
    "In sympy these things work very similarly:"
   ]
  },
  {
   "cell_type": "code",
   "execution_count": 15,
   "id": "788f01e2-1887-48c1-9cfb-2151d12af5f7",
   "metadata": {},
   "outputs": [
    {
     "data": {
      "text/latex": [
       "$\\displaystyle \\left[\\begin{matrix}11\\\\32\\end{matrix}\\right]$"
      ],
      "text/plain": [
       "Matrix([\n",
       "[11],\n",
       "[32]])"
      ]
     },
     "execution_count": 15,
     "metadata": {},
     "output_type": "execute_result"
    }
   ],
   "source": [
    "A = sy.Matrix([[1,2,3], [4,5,6]])\n",
    "x = sy.Matrix([[3], [4], [0]])\n",
    "\n",
    "A@x"
   ]
  },
  {
   "cell_type": "code",
   "execution_count": 16,
   "id": "3a6125ae-759c-43e6-a87d-590f865e624f",
   "metadata": {},
   "outputs": [
    {
     "data": {
      "text/latex": [
       "$\\displaystyle \\left[\\begin{matrix}1 & 2\\\\-1 & 6\\end{matrix}\\right]$"
      ],
      "text/plain": [
       "Matrix([\n",
       "[ 1, 2],\n",
       "[-1, 6]])"
      ]
     },
     "execution_count": 16,
     "metadata": {},
     "output_type": "execute_result"
    }
   ],
   "source": [
    "B = sy.Matrix([[1,2], [-1, 6]])\n",
    "B"
   ]
  },
  {
   "cell_type": "markdown",
   "id": "d052c0c1-a13f-4aae-8b1f-1a5c87e38bf5",
   "metadata": {},
   "source": [
    "If you want to compute a power of  a matrix in `sympy` you can do this by writing `B ** k` where `k` is the power you would like to compute:"
   ]
  },
  {
   "cell_type": "code",
   "execution_count": 18,
   "id": "e2f66cb9-6712-443a-aa87-b66ea92d026b",
   "metadata": {},
   "outputs": [
    {
     "data": {
      "text/latex": [
       "$\\displaystyle \\left[\\begin{matrix}-3010561 & 13733006\\\\-6866503 & 31321954\\end{matrix}\\right]$"
      ],
      "text/plain": [
       "Matrix([\n",
       "[-3010561, 13733006],\n",
       "[-6866503, 31321954]])"
      ]
     },
     "execution_count": 18,
     "metadata": {},
     "output_type": "execute_result"
    }
   ],
   "source": [
    "B ** 10"
   ]
  },
  {
   "cell_type": "markdown",
   "id": "6d2d1901-2a4e-46c7-b64f-1464f639a5f6",
   "metadata": {},
   "source": [
    "## WARNING!!!\n",
    "If you have a `numpy` array `B` then `B ** k` will not compute the matrix power of `B` to the k-th power, but it will instead compute a matrix where you take the k-th power of every entry of B. As we will learn later this is not the same at all as computing the k-th power of a matrix (except for very special situations).\n",
    "\n",
    "See below how the result is very different if we take a `numpy` array."
   ]
  },
  {
   "cell_type": "code",
   "execution_count": 19,
   "id": "0813f369-796e-4791-a152-9a44df4fada2",
   "metadata": {},
   "outputs": [
    {
     "data": {
      "text/plain": [
       "array([[       1,     1024],\n",
       "       [       1, 60466176]])"
      ]
     },
     "execution_count": 19,
     "metadata": {},
     "output_type": "execute_result"
    }
   ],
   "source": [
    "B = np.array([[1,2], [-1, 6]])\n",
    "B ** 10"
   ]
  }
 ],
 "metadata": {
  "kernelspec": {
   "display_name": "Python 3 (ipykernel)",
   "language": "python",
   "name": "python3"
  },
  "language_info": {
   "codemirror_mode": {
    "name": "ipython",
    "version": 3
   },
   "file_extension": ".py",
   "mimetype": "text/x-python",
   "name": "python",
   "nbconvert_exporter": "python",
   "pygments_lexer": "ipython3",
   "version": "3.12.1"
  }
 },
 "nbformat": 4,
 "nbformat_minor": 5
}
