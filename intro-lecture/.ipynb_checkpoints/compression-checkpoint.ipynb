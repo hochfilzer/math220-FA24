{
 "cells": [
  {
   "cell_type": "code",
   "execution_count": null,
   "metadata": {},
   "outputs": [],
   "source": [
    "import numpy as np\n",
    "import matplotlib.pyplot as plt\n",
    "from numpy.linalg import svd\n",
    "from PIL import Image"
   ]
  },
  {
   "cell_type": "code",
   "execution_count": null,
   "metadata": {},
   "outputs": [],
   "source": [
    "from ipywidgets import interact, interactive, interact_manual\n",
    "import ipywidgets as widgets\n",
    "from IPython.display import display\n",
    "%matplotlib inline"
   ]
  },
  {
   "cell_type": "code",
   "execution_count": null,
   "metadata": {},
   "outputs": [],
   "source": [
    "# replace images with the image you want to compress\n",
    "images = {\n",
    "    \"Beautiful Nature\": np.asarray(Image.open('nature1.jpg')),\n",
    "    \"Tree in Nature\": np.asarray(Image.open('nature2.jpg')),\n",
    "    \"Dog\": np.asarray(Image.open('animal1.jpg')),\n",
    "    \"Lion\": np.asarray(Image.open('animal2.jpg')),\n",
    "    \"Jackals\": np.asarray(Image.open('animal3.jpg')),\n",
    "    \"Flower (white)\": np.asarray(Image.open('flower1.jpg')),\n",
    "    \"Flower (coloured)\": np.asarray(Image.open('flower2.jpeg')),\n",
    "    \"Rahul Dangi\": np.asarray(Image.open('developer.jpg')),\n",
    "}"
   ]
  },
  {
   "cell_type": "code",
   "execution_count": null,
   "metadata": {},
   "outputs": [],
   "source": [
    "def show_images(img_name):\n",
    "    'It will show image in widgets'\n",
    "    print(\"Loading...\")\n",
    "    plt.title(\"Image Name: \"+img_name+\"\\n\")\n",
    "    plt.imshow(images[img_name])\n",
    "    plt.axis('off')\n",
    "    plt.show()"
   ]
  },
  {
   "cell_type": "code",
   "execution_count": null,
   "metadata": {},
   "outputs": [],
   "source": [
    "interact(show_images, img_name=list(images.keys()))"
   ]
  },
  {
   "cell_type": "code",
   "execution_count": null,
   "metadata": {},
   "outputs": [],
   "source": [
    "compressed_image = None\n",
    "text = None\n"
   ]
  },
  {
   "cell_type": "code",
   "execution_count": null,
   "metadata": {},
   "outputs": [],
   "source": [
    "def on_save_clicked(b):\n",
    "    img_name = text.value.split()[0]\n",
    "    print(\"saving image...\")\n",
    "    compressed_image.save(img_name+\".jpg\")\n",
    "    print(\"image saved.\")\n",
    "    \n",
    "    \n",
    "def compress_image(img_name, k):\n",
    "    print(\"processing...\")\n",
    "    global text\n",
    "    global compressed_image\n",
    "    img = images[img_name]\n",
    "    \n",
    "    r = img[:,:,0]\n",
    "    g = img[:,:,1]\n",
    "    b = img[:,:,2]\n",
    "    \n",
    "    print(\"compressing...\")\n",
    "    ur,sr,vr = svd(r, full_matrices=False)\n",
    "    ug,sg,vg = svd(g, full_matrices=False)\n",
    "    ub,sb,vb = svd(b, full_matrices=False)\n",
    "    rr = np.dot(ur[:,:k],np.dot(np.diag(sr[:k]), vr[:k,:]))\n",
    "    rg = np.dot(ug[:,:k],np.dot(np.diag(sg[:k]), vg[:k,:]))\n",
    "    rb = np.dot(ub[:,:k],np.dot(np.diag(sb[:k]), vb[:k,:]))\n",
    "    \n",
    "    print(\"arranging...\")\n",
    "    rimg = np.zeros(img.shape)\n",
    "    rimg[:,:,0] = rr\n",
    "    rimg[:,:,1] = rg\n",
    "    rimg[:,:,2] = rb\n",
    "    \n",
    "    for ind1, row in enumerate(rimg):\n",
    "        for ind2, col in enumerate(row):\n",
    "            for ind3, value in enumerate(col):\n",
    "                if value < 0:\n",
    "                    rimg[ind1,ind2,ind3] = abs(value)\n",
    "                if value > 255:\n",
    "                    rimg[ind1,ind2,ind3] = 255\n",
    "\n",
    "    compressed_image = rimg.astype(np.uint8)\n",
    "    \n",
    "    plt.title(\"Image Name: \"+img_name+\"\\n\")\n",
    "    plt.imshow(compressed_image)\n",
    "    plt.axis('off')\n",
    "    plt.show()\n",
    "    \n",
    "    save = widgets.Button(description=\"Save image!\", button_style='danger')\n",
    "    save.on_click(on_save_clicked)\n",
    "    \n",
    "    compressed_image = Image.fromarray(compressed_image)\n",
    "    \n",
    "    text = widgets.Text(value=\"image_save\",placeholder='Enter image name...',description='Image name')\n",
    "    display(text)\n",
    "    display(save)\n",
    "    "
   ]
  },
  {
   "cell_type": "code",
   "execution_count": null,
   "metadata": {},
   "outputs": [],
   "source": [
    "img = images[\"Dog\"]\n",
    "\n",
    "img.shape\n"
   ]
  },
  {
   "cell_type": "code",
   "execution_count": null,
   "metadata": {},
   "outputs": [],
   "source": [
    "interact(compress_image, img_name=list(images.keys()), k = (0,400\n",
    "                                    ))"
   ]
  }
 ],
 "metadata": {
  "kernelspec": {
   "display_name": "Python 3 (ipykernel)",
   "language": "python",
   "name": "python3"
  },
  "language_info": {
   "codemirror_mode": {
    "name": "ipython",
    "version": 3
   },
   "file_extension": ".py",
   "mimetype": "text/x-python",
   "name": "python",
   "nbconvert_exporter": "python",
   "pygments_lexer": "ipython3",
   "version": "3.12.1"
  }
 },
 "nbformat": 4,
 "nbformat_minor": 4
}
