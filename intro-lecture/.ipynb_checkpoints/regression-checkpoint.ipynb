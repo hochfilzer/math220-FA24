{
 "cells": [
  {
   "cell_type": "code",
   "execution_count": null,
   "id": "edc5026b-fceb-4e83-8fca-fd8e6a30cd03",
   "metadata": {},
   "outputs": [],
   "source": [
    "from sklearn.linear_model import LinearRegression\n",
    "import numpy as np\n",
    "import matplotlib.pyplot as plt"
   ]
  },
  {
   "cell_type": "code",
   "execution_count": null,
   "id": "dc0e1de2-eb3c-496d-8510-edcf83bf4c77",
   "metadata": {},
   "outputs": [],
   "source": [
    "n = 100\n",
    "x = np.linspace(0, 100, num = n).reshape(n,1)\n",
    "y =  3.75 * x + np.random.normal(size = (n,1)) * 30 + 44"
   ]
  },
  {
   "cell_type": "code",
   "execution_count": null,
   "id": "e3bf4d66-627e-4794-bc00-dd557f7db987",
   "metadata": {},
   "outputs": [],
   "source": [
    "plt.scatter(x, y)\n",
    "plt.show()"
   ]
  },
  {
   "cell_type": "code",
   "execution_count": null,
   "id": "d3140708-8635-4517-8d5b-5aedb33b8c46",
   "metadata": {},
   "outputs": [],
   "source": [
    "model = LinearRegression()\n",
    "model.fit(x, y)\n",
    "\n",
    "plt.scatter(x, y)\n",
    "plt.plot(x, model.predict(x), color = \"r\")\n",
    "plt.show()"
   ]
  },
  {
   "cell_type": "code",
   "execution_count": null,
   "id": "12db5b9c-c685-486c-9e3c-1cf1cb1e267c",
   "metadata": {},
   "outputs": [],
   "source": [
    "print(model.coef_)\n",
    "print(model.intercept_)"
   ]
  },
  {
   "cell_type": "code",
   "execution_count": null,
   "id": "f36d1576-75e7-4e7a-97c5-d5da9106bc79",
   "metadata": {},
   "outputs": [],
   "source": [
    "n = 100\n",
    "x = np.linspace(0, 100, num = n).reshape(n,1)\n",
    "y = 0.15 * x ** 2 + np.random.normal(size = (n,1)) * 40 + 44 + 3 * x"
   ]
  },
  {
   "cell_type": "code",
   "execution_count": null,
   "id": "81b2746a-bad5-49a2-b7ed-fc5ab0eaf405",
   "metadata": {},
   "outputs": [],
   "source": [
    "plt.scatter(x, y)\n",
    "plt.show()"
   ]
  },
  {
   "cell_type": "code",
   "execution_count": null,
   "id": "a8dcabd9-e98e-408a-a63f-55176d136713",
   "metadata": {},
   "outputs": [],
   "source": [
    "X = np.concatenate([x, x**2], 1)\n",
    "model = LinearRegression()\n",
    "model.fit(X, y)\n",
    "\n",
    "plt.scatter(x, y)\n",
    "plt.plot(x, model.predict(X), color = 'r')\n",
    "plt.show()"
   ]
  },
  {
   "cell_type": "code",
   "execution_count": null,
   "id": "2c635626-36cf-4fc8-ac45-bd0cac9beca6",
   "metadata": {},
   "outputs": [],
   "source": [
    "n = 100\n",
    "x = np.linspace(1, 100, num = n).reshape(n,1)\n",
    "y = np.log(x) + np.random.normal(size = (n,1)) * 0.2  + 3\n",
    "plt.scatter(x, y)\n",
    "plt.show()"
   ]
  },
  {
   "cell_type": "code",
   "execution_count": null,
   "id": "ae5f04c1-a18f-4e5d-98cb-31fdbdbf3b29",
   "metadata": {},
   "outputs": [],
   "source": [
    "X = np.log(x)\n",
    "model = LinearRegression()\n",
    "model.fit(X, y)\n",
    "\n",
    "plt.scatter(x, y)\n",
    "plt.plot(x, model.predict(X), color = 'r')\n",
    "plt.show()"
   ]
  }
 ],
 "metadata": {
  "kernelspec": {
   "display_name": "Python 3 (ipykernel)",
   "language": "python",
   "name": "python3"
  },
  "language_info": {
   "codemirror_mode": {
    "name": "ipython",
    "version": 3
   },
   "file_extension": ".py",
   "mimetype": "text/x-python",
   "name": "python",
   "nbconvert_exporter": "python",
   "pygments_lexer": "ipython3",
   "version": "3.12.1"
  }
 },
 "nbformat": 4,
 "nbformat_minor": 5
}
